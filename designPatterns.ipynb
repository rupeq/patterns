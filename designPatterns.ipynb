{
 "cells": [
  {
   "cell_type": "markdown",
   "metadata": {},
   "source": [
    "# Object-Oriented Programming\n",
    "\n",
    "### Core concepts\n",
    "- objects\n",
    "- classes\n",
    "\n",
    "## Objects\n",
    "###### Represent entities in both problem and solution domains\n",
    "\n",
    "## Classes \n",
    "###### Templates to create objects to avoid recreating them each time\n",
    "\n",
    "### Attributes\n",
    "- Represents properties of an entity\n",
    "- Captures the state of the entity\n",
    "\n",
    "### Methods\n",
    "- Represent behaviors"
   ]
  },
  {
   "cell_type": "markdown",
   "metadata": {},
   "source": [
    "# Inheritance\n",
    "###### Establishes a relationship between two classes as parent & child.\n",
    "\n",
    "### Child class\n",
    "- Keeps the attributes and methods if its parent.\n",
    "- Adds new attributes or methods of its own.\n",
    "- Overrides the existing methods of its parent.\n",
    "\n",
    "# Polymorphism\n",
    "###### Relies on inheritance\n",
    "###### Allows child classes to be instantiated and treated as the same type as its parent"
   ]
  },
  {
   "cell_type": "markdown",
   "metadata": {},
   "source": [
    "_________________________________________________________________________"
   ]
  },
  {
   "cell_type": "markdown",
   "metadata": {},
   "source": [
    "# Patterns"
   ]
  },
  {
   "cell_type": "markdown",
   "metadata": {},
   "source": [
    "## Creational\n",
    "- used to create objects in a systematic way\n",
    "- flexibility\n",
    "\n",
    "### use polymorphism"
   ]
  },
  {
   "cell_type": "markdown",
   "metadata": {},
   "source": [
    "### Factory\n",
    "\n",
    "#### Problem\n",
    "- uncertainties in types of objects\n",
    "- decisions ti be made at runtime regarding what classes to use\n",
    "\n",
    "#### Scenario\n",
    "Pet shop:\n",
    "- only dogs originally\n",
    "- now cats, too"
   ]
  },
  {
   "cell_type": "code",
   "execution_count": 10,
   "metadata": {},
   "outputs": [
    {
     "name": "stdout",
     "output_type": "stream",
     "text": [
      "Woof!\n",
      "Meow!\n"
     ]
    }
   ],
   "source": [
    "class Dog:\n",
    "    \"\"\"A simple dog class\"\"\"\n",
    "    \n",
    "    def __init__(self, name):\n",
    "        self.name = name\n",
    "    \n",
    "    def speak(self):\n",
    "        return \"Woof!\"\n",
    "\n",
    "class Cat:\n",
    "    \"\"\"A simple dog class\"\"\"\n",
    "    \n",
    "    def __init__(self, name):\n",
    "        self.name = name\n",
    "    \n",
    "    def speak(self):\n",
    "        return \"Meow!\"\n",
    "    \n",
    "def get_pet(pet=\"dog\"):\n",
    "    \"\"\"The factory method \"\"\"\n",
    "    \n",
    "    pets = dict(dog=Dog(\"Jake\"), cat=Cat(\"Peach\"))\n",
    "    return pets[pet]\n",
    "\n",
    "d = get_pet(\"dog\")\n",
    "print(d.speak())\n",
    "\n",
    "c = get_pet(\"cat\")\n",
    "print(c.speak())"
   ]
  },
  {
   "cell_type": "markdown",
   "metadata": {},
   "source": [
    "### Abstract factory\n",
    "\n",
    "#### Scenario\n",
    "Pet factory:\n",
    "- dog factory\n",
    "- cat factory\n",
    "\n",
    "#### Solution\n",
    "- abstract factory: pet factory\n",
    "- concrete factory: dog and cat factories\n",
    "- abstract product: \n",
    "- concrete product: dog and dog food; cat and cat food"
   ]
  },
  {
   "cell_type": "code",
   "execution_count": 19,
   "metadata": {},
   "outputs": [
    {
     "name": "stdout",
     "output_type": "stream",
     "text": [
      "Our pet is: Dog.\n",
      "Our pet says: Woof!\n",
      "Its food is: Dog food!\n"
     ]
    }
   ],
   "source": [
    "class Dog:\n",
    "    \"\"\"One of the obj to be returned\"\"\"\n",
    "    \n",
    "    def speak(self):\n",
    "        return \"Woof!\"\n",
    "    \n",
    "    def __str__(self):\n",
    "        return \"Dog\"\n",
    "    \n",
    "class DogFactory:\n",
    "    \"\"\"Concrete factory\"\"\"\n",
    "    \n",
    "    def get_pet(self):\n",
    "        \"\"\"Returns a Dog obj\"\"\"\n",
    "        return Dog()\n",
    "    \n",
    "    def get_food(self):\n",
    "        \"\"\"Returns a Dog Food obj\"\"\"\n",
    "        return \"Dog food!\"\n",
    "\n",
    "class PetStore:\n",
    "    \"\"\"PetStore houses our Abstract Factory\"\"\"\n",
    "    \n",
    "    def __init__(self, pet_factory=None):\n",
    "        \"\"\"pet_factory is Abstract Factory\"\"\"\n",
    "        self.pet_factory = pet_factory\n",
    "    \n",
    "    def show_pet(self):\n",
    "        \"\"\"Utility method to display the details of the obj retured by the Dog Factory\"\"\"\n",
    "        pet = self.pet_factory.get_pet()\n",
    "        pet_food = self.pet_factory.get_food()\n",
    "        \n",
    "        print(f\"Our pet is: {pet}.\")\n",
    "        print(f\"Our pet says: {pet.speak()}\")\n",
    "        print(f\"Its food is: {pet_food}\")\n",
    "        \n",
    "# Create a Concrete factory\n",
    "factory = DogFactory()\n",
    "\n",
    "# Create a pet store housing our Abstract factory\n",
    "shop = PetStore(factory)\n",
    "    \n",
    "# Invoce the utility method\n",
    "shop.show_pet()\n",
    "    "
   ]
  },
  {
   "cell_type": "markdown",
   "metadata": {},
   "source": [
    "### Singleton\n",
    "\n",
    "#### Problem\n",
    "- only one instance\n",
    "- global variable in an object-oriented way\n",
    "\n",
    "#### Scenario\n",
    "- an info cache: shared by multiple objects\n",
    "\n",
    "#### Solution\n",
    "- module:  shared by multiple objects\n",
    "- the borg design pattern"
   ]
  },
  {
   "cell_type": "code",
   "execution_count": 25,
   "metadata": {},
   "outputs": [
    {
     "name": "stdout",
     "output_type": "stream",
     "text": [
      "{'HTTP': 'Hyper Text Transfer Protocol'}\n",
      "{'HTTP': 'Hyper Text Transfer Protocol', 'SNMP': 'Simple Network Management Protocol'}\n"
     ]
    }
   ],
   "source": [
    "class Borg:\n",
    "    \"\"\"Borg class making class attributes global\"\"\"\n",
    "    shared_state = {} # attribute dict\n",
    "    \n",
    "    def __init__(self):\n",
    "        self.__dict__ = self.shared_state\n",
    "        \n",
    "class Singleton(Borg):\n",
    "    \"\"\"Class now shares all its attributes among various instances\"\"\"\n",
    "    # makes the singleton obj an obj-oriented global variable\n",
    "    \n",
    "    def __init__(self, **kwargs):\n",
    "        # update the attribute dict by inserting a new kw pair\n",
    "        Borg.__init__(self)\n",
    "        self.shared_state.update(kwargs)\n",
    "        \n",
    "    def __str__(self):\n",
    "        return str(self.shared_state)\n",
    "    \n",
    "x = Singleton(HTTP = \"Hyper Text Transfer Protocol\")\n",
    "print(x)\n",
    "\n",
    "y = Singleton(SNMP = \"Simple Network Management Protocol\")\n",
    "print(y)\n",
    "        "
   ]
  },
  {
   "cell_type": "markdown",
   "metadata": {},
   "source": [
    "### Builder\n",
    "\n",
    "#### Scenario\n",
    "Building cars\n",
    "- tires\n",
    "- engine\n",
    "- etc...\n",
    "\n",
    "#### Solution\n",
    "- director\n",
    "- abstract builder: interfaces\n",
    "- concrete builder: implements the interfaces\n",
    "- product: obj being built"
   ]
  },
  {
   "cell_type": "code",
   "execution_count": 35,
   "metadata": {},
   "outputs": [
    {
     "name": "stdout",
     "output_type": "stream",
     "text": [
      "Model: Belarus | Regular tires | Turbo engine\n"
     ]
    }
   ],
   "source": [
    "class Director():\n",
    "    \"\"\"Director\"\"\"\n",
    "    \n",
    "    def __init__(self, builder):\n",
    "        self.builder = builder\n",
    "        \n",
    "    def construct_builder(self):\n",
    "        self.builder.create_new_car()\n",
    "        self.builder.add_model()\n",
    "        self.builder.add_tires()\n",
    "        self.builder.add_engine()\n",
    "    \n",
    "    def get_car(self):\n",
    "        return self.builder.car\n",
    "    \n",
    "class Builder():\n",
    "    \"\"\"Abstract builder\"\"\"\n",
    "    \n",
    "    def __init__(self):\n",
    "        self.car = None\n",
    "        \n",
    "    def create_new_car(self):\n",
    "        self.car = Car()\n",
    "        \n",
    "class CarBuilder(Builder):\n",
    "    \"\"\"Concrete builder. Provides parts and tools to work on the parts\"\"\"\n",
    "    \n",
    "    def add_model(self):\n",
    "        self.car.model = \"Model: Belarus\"\n",
    "        \n",
    "    def add_tires(self):\n",
    "        self.car.tires = \"Regular tires\"\n",
    "        \n",
    "    def add_engine(self):\n",
    "        self.car.engine = \"Turbo engine\"\n",
    "        \n",
    "class Car():\n",
    "    \"Product\"\n",
    "    \n",
    "    def __init__(self):\n",
    "        self.model = None\n",
    "        self.tires = None\n",
    "        self.engine = None\n",
    "        \n",
    "    def __str__(self):\n",
    "        return f\"{self.model} | {self.tires} | {self.engine}\"\n",
    "    \n",
    "builder = CarBuilder()\n",
    "director = Director(builder)\n",
    "director.construct_builder()\n",
    "car = director.get_car()\n",
    "print(car)"
   ]
  },
  {
   "cell_type": "markdown",
   "metadata": {},
   "source": [
    "### Prototype\n",
    "\n",
    "#### Problem\n",
    "- creating many identical obj individually: expensive\n",
    "- cloning: an alternative\n",
    "\n",
    "#### Scenario\n",
    "- mass production\n",
    "\n",
    "#### Solution\n",
    "- create a prototypical instance first\n",
    "- simply clone it whenever you need replica"
   ]
  },
  {
   "cell_type": "code",
   "execution_count": 36,
   "metadata": {},
   "outputs": [
    {
     "name": "stdout",
     "output_type": "stream",
     "text": [
      "Belarus | White | Super\n"
     ]
    }
   ],
   "source": [
    "import copy\n",
    "\n",
    "class Prototype:\n",
    "    def __init__(self):\n",
    "        self.objects = {}\n",
    "    \n",
    "    def register_object(self, name, obj):\n",
    "        \"\"\"Register an obj\"\"\"\n",
    "        self.objects[name] = obj\n",
    "    \n",
    "    def unregister_obkect(self, name):\n",
    "        \"\"\"Unregister an obj\"\"\"\n",
    "        del self.objects[name]\n",
    "    \n",
    "    def clone(self, name, **attr):\n",
    "        \"\"\"Clone a registered obj and update its attr\"\"\"\n",
    "        obj = copy.deepcopy(self.objects.get(name))\n",
    "        obj.__dict__.update(attr)\n",
    "        return obj\n",
    "    \n",
    "class Car:\n",
    "    def __init__(self):\n",
    "        self.name = \"Belarus\"\n",
    "        self.color = \"White\"\n",
    "        self.options = \"Super\"\n",
    "        \n",
    "    def __str__(self):\n",
    "        return f\"{self.name} | {self.color} | {self.options}\"\n",
    "    \n",
    "car = Car()\n",
    "prototype = Prototype()\n",
    "prototype.register_object('Minsk', car)\n",
    "\n",
    "car1 = prototype.clone('Minsk')\n",
    "print(car1)"
   ]
  },
  {
   "cell_type": "markdown",
   "metadata": {},
   "source": [
    "## Structural\n",
    "- relationships between software in certain conf\n",
    "- different goals yield different structures\n",
    "\n",
    "### use inheritance"
   ]
  },
  {
   "cell_type": "markdown",
   "metadata": {},
   "source": [
    "### Decorator\n",
    "\n",
    "#### Scenario\n",
    "- hello world!\n",
    "- (tag) hello world!(closing tag)\n",
    "\n",
    "#### Solution\n",
    "- functions: obj in Python\n",
    "- built-in decorator feature"
   ]
  },
  {
   "cell_type": "code",
   "execution_count": 31,
   "metadata": {},
   "outputs": [
    {
     "name": "stdout",
     "output_type": "stream",
     "text": [
      "<blink>Hello world!!</blink>\n",
      "hello_world\n",
      "Original function\n"
     ]
    }
   ],
   "source": [
    "from functools import wraps\n",
    "\n",
    "def make_blink(func):\n",
    "    \"\"\"Defines the decorator\"\"\"\n",
    "    \n",
    "    # makes the decorator transparent in terms of its name & docstring\n",
    "    @wraps(func)\n",
    "    \n",
    "    #inner func\n",
    "    def decorator():\n",
    "        #grab the return value of the func being decorated\n",
    "        ret = func()\n",
    "        #add new functionality to the func being decorated\n",
    "        return f\"<blink>{ret}!</blink>\"\n",
    "    return decorator\n",
    "\n",
    "@make_blink\n",
    "def hello_world():\n",
    "    \"\"\"Original function\"\"\"\n",
    "    \n",
    "    return 'Hello world!'\n",
    "\n",
    "print(hello_world())\n",
    "print(hello_world.__name__)\n",
    "print(hello_world.__doc__)\n"
   ]
  },
  {
   "cell_type": "markdown",
   "metadata": {},
   "source": [
    "### Proxy\n",
    "\n",
    "#### Problem\n",
    "- postpone obj creation unless absolutely necessary\n",
    "- find a placeholder\n",
    "\n",
    "#### Scenario\n",
    "- create instance of producer\n",
    "- \"Proxy\" = artist\n",
    "\n",
    "#### Solution\n",
    "- clients: interacting with a \"Proxy\"\n",
    "- \"Proxy\": responsible for creating the resource intensive objs"
   ]
  },
  {
   "cell_type": "code",
   "execution_count": 36,
   "metadata": {},
   "outputs": [
    {
     "name": "stdout",
     "output_type": "stream",
     "text": [
      "Artist checking if Producer is available...\n",
      "Producer has time to meet you now\n",
      "Artist checking if Producer is available...\n",
      "Producer is busy!\n"
     ]
    }
   ],
   "source": [
    "import time\n",
    "\n",
    "class Producer:\n",
    "    \"\"\"Define the obj to instantiate\"\"\"\n",
    "    def produce(self):\n",
    "        print(\"Producer is working hard\")\n",
    "        \n",
    "    def meet(self):\n",
    "        print(\"Producer has time to meet you now\")\n",
    "        \n",
    "class Proxy:\n",
    "    \"\"\"Define the proxy to instantiate as a middleman\"\"\"\n",
    "    def __init__(self):\n",
    "        self.occupied = \"No\"\n",
    "        self.producer = None\n",
    "        \n",
    "    def produce(self):\n",
    "        \"\"\"Check if 'Producer' is availible\"\"\"\n",
    "        print(\"Artist checking if Producer is available...\")\n",
    "        \n",
    "        if self.occupied == 'No':\n",
    "            #if available , create prod obj\n",
    "            self.producer = Producer()\n",
    "            time.sleep(2)\n",
    "            \n",
    "            #meet the guest\n",
    "            self.producer.meet()\n",
    "            \n",
    "        else:\n",
    "            #don't instantiate a producer\n",
    "            time.sleep(2)\n",
    "            print(\"Producer is busy!\")\n",
    "            \n",
    "p = Proxy()\n",
    "p.produce()\n",
    "p.occupied = 'Yes'\n",
    "p.produce()\n"
   ]
  },
  {
   "cell_type": "markdown",
   "metadata": {},
   "source": [
    "### Adapter\n",
    "\n",
    "#### Problem\n",
    "- interface incompatible (client-server)\n",
    "\n",
    "#### Scenario\n",
    "- korean: speak_korean()\n",
    "- british: speak_english()\n",
    "- clinet: speak() (instead of)\n",
    "\n",
    "#### Solution\n",
    "- use \"Adapter\" to translation (client-server)"
   ]
  },
  {
   "cell_type": "code",
   "execution_count": 39,
   "metadata": {},
   "outputs": [
    {
     "name": "stdout",
     "output_type": "stream",
     "text": [
      "Korean says 'An-neyong?'\n",
      "\n",
      "British says 'Hello!'\n",
      "\n"
     ]
    }
   ],
   "source": [
    "class Korean:\n",
    "    \"\"\"Korean speaker\"\"\"\n",
    "    def __init__(self):\n",
    "        self.name = \"Korean\"\n",
    "        \n",
    "    def speak_korean(self):\n",
    "        return 'An-neyong?'\n",
    "    \n",
    "class British:\n",
    "    \"\"\"English speaker\"\"\"\n",
    "    def __init__(self):\n",
    "        self.name = \"British\"\n",
    "    \n",
    "    #the different method name\n",
    "    def speak_english(self):\n",
    "        return 'Hello!'\n",
    "    \n",
    "class Adapter:\n",
    "    \"\"\"This changes the generic method name to individualized method names\"\"\"\n",
    "    def __init__(self, obj, **adapted_method):\n",
    "        \"\"\"Change the name of the method\"\"\"\n",
    "        self.obj = obj\n",
    "        \n",
    "        # key - name of generic method\n",
    "        # value - individualized method name\n",
    "        self.__dict__.update(adapted_method)\n",
    "        \n",
    "    def __getattr__(self, attr):\n",
    "        \"\"\"Return the rest of attributes\"\"\"\n",
    "        return getattr(self.obj, attr)\n",
    "    \n",
    "objects = []\n",
    "\n",
    "korean = Korean()\n",
    "british = British()\n",
    "\n",
    "objects.append(Adapter(korean, speak=korean.speak_korean))\n",
    "objects.append(Adapter(british, speak=british.speak_english))\n",
    "\n",
    "for obj in objects:\n",
    "    print(f\"{obj.name} says '{obj.speak()}'\\n\")"
   ]
  },
  {
   "cell_type": "markdown",
   "metadata": {},
   "source": [
    "### Composite\n",
    "\n",
    "#### Problem\n",
    "- build recursive tree data structure\n",
    "- menu > submenu > sub-submenu\n",
    "\n",
    "#### Scenario\n",
    "- menu\n",
    "- submenu\n",
    "\n",
    "#### Solution\n",
    "- component - abstract\n",
    "- child - concrete\n",
    "- composite - concrete, maintains child obj, add/remove/component"
   ]
  },
  {
   "cell_type": "code",
   "execution_count": 43,
   "metadata": {},
   "outputs": [
    {
     "name": "stdout",
     "output_type": "stream",
     "text": [
      "top_menu\n",
      "submenu1\n",
      "sub_submenu11\n",
      "sub_submenu12\n",
      "submenu2\n"
     ]
    }
   ],
   "source": [
    "class Component(object):\n",
    "    \"\"\"Abstract class\"\"\"\n",
    "    \n",
    "    def __init__(self, *args, **kwargs):\n",
    "        pass\n",
    "    \n",
    "    def component_function(self):\n",
    "        pass\n",
    "    \n",
    "class Child(Component):\n",
    "    \"\"\"Concrete class\"\"\"\n",
    "    \n",
    "    def __init__(self, *args, **kwargs):\n",
    "        Component.__init__(self, *args, **kwargs)\n",
    "    \n",
    "        self.name = args[0] #store the name of child item\n",
    "    \n",
    "    def component_function(self):\n",
    "        print(f\"{self.name}\") #print the name of the child item\n",
    "    \n",
    "class Composite(Component):\n",
    "    \"\"\"Concrete class and maintains the tree recursive structure\"\"\"\n",
    "    def __init__(self, *args, **kwargs):\n",
    "        Component.__init__(self, *args, **kwargs)\n",
    "        \n",
    "        self.name = args[0]\n",
    "        \n",
    "        self.children = [] #keep the child items\n",
    "        \n",
    "    def append_child(self, child):\n",
    "        \"\"\"Method to add a new child item\"\"\"\n",
    "        self.children.append(child)\n",
    "        \n",
    "    def remove_child(self, child):\n",
    "        \"\"\"Method to remove a child item\"\"\"\n",
    "        self.childrem.remove(child)\n",
    "    \n",
    "    def component_function(self):\n",
    "        print(f\"{self.name}\")\n",
    "        for i in self.children:\n",
    "            i.component_function()\n",
    "\n",
    "sub1 = Composite(\"submenu1\") #composite submenu1\n",
    "sub11 = Child(\"sub_submenu11\") #child sub_submenu11\n",
    "sub12 = Child(\"sub_submenu12\") #child sub_submenu12\n",
    "\n",
    "#add sub_submenus to submenu1\n",
    "sub1.append_child(sub11) \n",
    "sub1.append_child(sub12)\n",
    "\n",
    "top = Composite(\"top_menu\") #top-level composite\n",
    "\n",
    "sub2 = Child('submenu2') #build a submenu2 (is not a composite)\n",
    "\n",
    "# add the submenus to the top-level (1 - composite, 2 - plain)\n",
    "top.append_child(sub1) \n",
    "top.append_child(sub2)\n",
    "\n",
    "top.component_function() "
   ]
  },
  {
   "cell_type": "markdown",
   "metadata": {},
   "source": [
    "### Bridge\n",
    "\n",
    "#### Problem\n",
    "- two unrelated, parallel, or orthogonal abstractions\n",
    "- one: implementation-specific\n",
    "- the other: implementation-independent\n",
    "\n",
    "#### Scenario\n",
    "- implementation-independent circle abstraction: how to define prop and scale it\n",
    "- implementation-dependent circle abstraction: how to drow a circle\n",
    "\n",
    "#### Solution\n",
    "- separate the abstractions into two different class hierarchies"
   ]
  },
  {
   "cell_type": "code",
   "execution_count": 1,
   "metadata": {},
   "outputs": [
    {
     "name": "stdout",
     "output_type": "stream",
     "text": [
      "API 1 drawing a circle at 1, 2 with radius 3\n",
      "API 2 drawing a circle at 2, 3 with radius 4\n"
     ]
    }
   ],
   "source": [
    "class DrawingAPIOne(object):\n",
    "    \"\"\"Implementation-specific abstr: concrete class one\"\"\"\n",
    "    def draw_circle(self, x, y, r):\n",
    "        print(f\"API 1 drawing a circle at {x}, {y} with radius {r}\")\n",
    "        \n",
    "class DrawingAPITwo(object):\n",
    "    \"\"\"Implementation-specific abstr: concrete class two\"\"\"\n",
    "    def draw_circle(self, x, y, r):\n",
    "        print(f\"API 2 drawing a circle at {x}, {y} with radius {r}\")\n",
    "\n",
    "class Circle(object):\n",
    "    \"\"\"Implementation-independent circle abstraction\"\"\"\n",
    "    def __init__(self, x, y, r, drawing_api):\n",
    "        \"\"\"Attr\"\"\"\n",
    "        self.x = x\n",
    "        self.y = y\n",
    "        self.r = r\n",
    "        self.drawing_api = drawing_api\n",
    "        \n",
    "    def draw(self):\n",
    "        \"\"\"Take DrawingAPI\"\"\"\n",
    "        self.drawing_api.draw_circle(self.x, self.y, self.r)\n",
    "    \n",
    "    def scale(self, percent):\n",
    "        \"\"\"Implementation-independent\"\"\"\n",
    "        self.r *= percent\n",
    "        \n",
    "circle1 = Circle(1, 2, 3, DrawingAPIOne())\n",
    "circle1.draw()\n",
    "\n",
    "circle2 = Circle(2, 3, 4, DrawingAPITwo())\n",
    "circle2.draw()"
   ]
  },
  {
   "cell_type": "markdown",
   "metadata": {},
   "source": [
    "## Behavioral\n",
    "- best practices of obj interaction\n",
    "- define the protocols\n",
    "\n",
    "### use methods and their signatures"
   ]
  },
  {
   "cell_type": "markdown",
   "metadata": {},
   "source": [
    "### Observer\n",
    "\n",
    "#### Problem\n",
    "- subjects to be monitored\n",
    "- observers to be notified\n",
    "\n",
    "#### Scenario\n",
    "- keep track of core temoerature reactors at a power plant\n",
    "- registered observers need to be notified\n",
    "\n",
    "#### Solution\n",
    "- subject: abstract class (attach, detach, notify)\n",
    "- concrete subjects (e.g. singleton)"
   ]
  },
  {
   "cell_type": "code",
   "execution_count": null,
   "metadata": {},
   "outputs": [],
   "source": [
    "class Subject(object):\n",
    "    \"\"\"Represents what is being 'observer'\"\"\"\n",
    "    def __init__(self):\n",
    "        self.observers = []\n",
    "        \n",
    "    def attach(self, observer):\n",
    "        \"\"\"Append the obs to the list\"\"\"\n",
    "        if observer not in self.observers:\n",
    "            self.observers.append(observer)\n",
    "    \n",
    "    def detach(self, observer):\n",
    "        \"\"\"Simply remove obs\"\"\"\n",
    "        try:\n",
    "            self.observers.remove(observer)\n",
    "        except ValueError:\n",
    "            pass\n",
    "    \n",
    "    def notify(self, modifier=None):\n",
    "        \"\"\"Alert the observers (change in subjects)\"\"\"\n",
    "        for observer in self.observers:\n",
    "            if modifier != observer:\n",
    "                observer.update(self)\n",
    "        \n",
    "        \n",
    "class Core(Subject):\n",
    "    def __init__(self, name=\"\"):\n",
    "        Subject.__init__(self)\n",
    "        self.name = name\n",
    "        self.temp = 0\n",
    "        \n",
    "    #getter that gets the core temp        \n",
    "    @property\n",
    "    def temp(self):\n",
    "        return self.temp\n",
    "    \n",
    "    #setter that sets the core temp    \n",
    "    @temp.setter\n",
    "    def temp(self, temp):\n",
    "        self.temp = temp\n",
    "        \n",
    "class TempViewer:\n",
    "    def update(self, subject):\n",
    "        print(f\"Temperature Viewer: {subject.name} hast temperature {subject.temp}\")\n",
    "        \n",
    "        \n",
    "c1 = Core(\"Core 1\")\n",
    "c2 = Core(\"Core 2\")\n",
    "\n",
    "v1 = TempViewer()\n",
    "v2 = TempViewer()\n",
    "\n",
    "c1.attach(v1)\n",
    "c1.attach(v2)\n",
    "\n",
    "c1.temp = 80\n",
    "c1.temp = 90\n",
    "\n"
   ]
  },
  {
   "cell_type": "markdown",
   "metadata": {},
   "source": [
    "### Visitor\n",
    "\n",
    "#### Problem\n",
    "- new operation\n",
    "- existing classes\n",
    "- all dynamically done\n",
    "\n",
    "#### Scenario\n",
    "- present house class\n",
    "- HVAC specialist: visitor t1\n",
    "- Electrician: visitor t2\n",
    "\n",
    "#### Solution\n",
    "- new operations \n",
    "- various elements of an existing class hierarchy"
   ]
  },
  {
   "cell_type": "code",
   "execution_count": 2,
   "metadata": {},
   "outputs": [
    {
     "name": "stdout",
     "output_type": "stream",
     "text": [
      "House worked on by HvacSpecialist\n",
      "House worked on by Electrician\n"
     ]
    }
   ],
   "source": [
    "class House(object): #The class being visited \n",
    "    def accept(self, visitor):\n",
    "        \"\"\"Interface to accept a visitor\"\"\"\n",
    "        visitor.visit(self) #Triggers the visiting operation!\n",
    "\n",
    "    def work_on_hvac(self, hvac_specialist):\n",
    "        print(self, \"worked on by\", hvac_specialist) #now have a reference to the HVAC specialist object in the house object!\n",
    "\n",
    "    def work_on_electricity(self, electrician):\n",
    "        print(self, \"worked on by\", electrician) #now have a reference to the electrician object in the house object!\n",
    "\n",
    "    def __str__(self):\n",
    "        \"\"\"Simply return the class name when the House object is printed\"\"\"\n",
    "        return self.__class__.__name__\n",
    "\n",
    "\n",
    "class Visitor(object):\n",
    "    \"\"\"Abstract visitor\"\"\"\n",
    "    def __str__(self):\n",
    "        \"\"\"Simply return the class name when the Visitor object is printed\"\"\"\n",
    "        return self.__class__.__name__\n",
    "\n",
    "\n",
    "class HvacSpecialist(Visitor):\n",
    "    \"\"\"Concrete visitor: HVAC specialist\"\"\"\n",
    "    def visit(self, house):\n",
    "        house.work_on_hvac(self) #the visitor now has a reference to the house object\n",
    "\n",
    "\n",
    "class Electrician(Visitor):\n",
    "    \"\"\"Concrete visitor: electrician\"\"\"\n",
    "    def visit(self, house):\n",
    "        house.work_on_electricity(self) #the visitor now has a reference to the house object\n",
    "\n",
    "\n",
    "hv = HvacSpecialist()\n",
    "e = Electrician()\n",
    "\n",
    "\n",
    "home = House()\n",
    "\n",
    "#Let the house accept the HVAC specialist and work on the house by invoking the visit() method\n",
    "home.accept(hv)\n",
    "\n",
    "#Let the house accept the electrician and work on the house by invoking the visit() method\n",
    "home.accept(e)\n"
   ]
  }
 ],
 "metadata": {
  "kernelspec": {
   "display_name": "Python 3",
   "language": "python",
   "name": "python3"
  },
  "language_info": {
   "codemirror_mode": {
    "name": "ipython",
    "version": 3
   },
   "file_extension": ".py",
   "mimetype": "text/x-python",
   "name": "python",
   "nbconvert_exporter": "python",
   "pygments_lexer": "ipython3",
   "version": "3.8.3"
  }
 },
 "nbformat": 4,
 "nbformat_minor": 4
}
