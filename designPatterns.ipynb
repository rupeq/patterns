{
 "cells": [
  {
   "cell_type": "markdown",
   "metadata": {},
   "source": [
    "# Object-Oriented Programming\n",
    "\n",
    "### Core concepts\n",
    "- objects\n",
    "- classes\n",
    "\n",
    "## Objects\n",
    "###### Represent entities in both problem and solution domains\n",
    "\n",
    "## Classes \n",
    "###### Templates to create objects to avoid recreating them each time\n",
    "\n",
    "### Attributes\n",
    "- Represents properties of an entity\n",
    "- Captures the state of the entity\n",
    "\n",
    "### Methods\n",
    "- Represent behaviors"
   ]
  },
  {
   "cell_type": "markdown",
   "metadata": {},
   "source": [
    "# Inheritance\n",
    "###### Establishes a relationship between two classes as parent & child.\n",
    "\n",
    "### Child class\n",
    "- Keeps the attributes and methods if its parent.\n",
    "- Adds new attributes or methods of its own.\n",
    "- Overrides the existing methods of its parent.\n",
    "\n",
    "# Polymorphism\n",
    "###### Relies on inheritance\n",
    "###### Allows child classes to be instantiated and treated as the same type as its parent"
   ]
  },
  {
   "cell_type": "markdown",
   "metadata": {},
   "source": [
    "_________________________________________________________________________"
   ]
  },
  {
   "cell_type": "markdown",
   "metadata": {},
   "source": [
    "# Patterns"
   ]
  },
  {
   "cell_type": "markdown",
   "metadata": {},
   "source": [
    "## Creational\n",
    "- used to create objects in a systematic way\n",
    "- flexibility\n",
    "\n",
    "### use polymorphism"
   ]
  },
  {
   "cell_type": "markdown",
   "metadata": {},
   "source": [
    "### Factory\n",
    "\n",
    "#### Problem\n",
    "- uncertainties in types of objects\n",
    "- decisions ti be made at runtime regarding what classes to use\n",
    "\n",
    "#### Scenario\n",
    "Pet shop:\n",
    "- only dogs originally\n",
    "- now cats, too"
   ]
  },
  {
   "cell_type": "code",
   "execution_count": 10,
   "metadata": {},
   "outputs": [
    {
     "name": "stdout",
     "output_type": "stream",
     "text": [
      "Woof!\n",
      "Meow!\n"
     ]
    }
   ],
   "source": [
    "class Dog:\n",
    "    \"\"\"A simple dog class\"\"\"\n",
    "    \n",
    "    def __init__(self, name):\n",
    "        self.name = name\n",
    "    \n",
    "    def speak(self):\n",
    "        return \"Woof!\"\n",
    "\n",
    "class Cat:\n",
    "    \"\"\"A simple dog class\"\"\"\n",
    "    \n",
    "    def __init__(self, name):\n",
    "        self.name = name\n",
    "    \n",
    "    def speak(self):\n",
    "        return \"Meow!\"\n",
    "    \n",
    "def get_pet(pet=\"dog\"):\n",
    "    \"\"\"The factory method \"\"\"\n",
    "    \n",
    "    pets = dict(dog=Dog(\"Jake\"), cat=Cat(\"Peach\"))\n",
    "    return pets[pet]\n",
    "\n",
    "d = get_pet(\"dog\")\n",
    "print(d.speak())\n",
    "\n",
    "c = get_pet(\"cat\")\n",
    "print(c.speak())"
   ]
  },
  {
   "cell_type": "markdown",
   "metadata": {},
   "source": [
    "### Abstract factory\n",
    "\n",
    "#### Scenario\n",
    "Pet factory:\n",
    "- dog factory\n",
    "- cat factory\n",
    "\n",
    "#### Solution\n",
    "- abstract factory: pet factory\n",
    "- concrete factory: dog and cat factories\n",
    "- abstract product: \n",
    "- concrete product: dog and dog food; cat and cat food"
   ]
  },
  {
   "cell_type": "code",
   "execution_count": 19,
   "metadata": {},
   "outputs": [
    {
     "name": "stdout",
     "output_type": "stream",
     "text": [
      "Our pet is: Dog.\n",
      "Our pet says: Woof!\n",
      "Its food is: Dog food!\n"
     ]
    }
   ],
   "source": [
    "class Dog:\n",
    "    \"\"\"One of the obj to be returned\"\"\"\n",
    "    \n",
    "    def speak(self):\n",
    "        return \"Woof!\"\n",
    "    \n",
    "    def __str__(self):\n",
    "        return \"Dog\"\n",
    "    \n",
    "class DogFactory:\n",
    "    \"\"\"Concrete factory\"\"\"\n",
    "    \n",
    "    def get_pet(self):\n",
    "        \"\"\"Returns a Dog obj\"\"\"\n",
    "        return Dog()\n",
    "    \n",
    "    def get_food(self):\n",
    "        \"\"\"Returns a Dog Food obj\"\"\"\n",
    "        return \"Dog food!\"\n",
    "\n",
    "class PetStore:\n",
    "    \"\"\"PetStore houses our Abstract Factory\"\"\"\n",
    "    \n",
    "    def __init__(self, pet_factory=None):\n",
    "        \"\"\"pet_factory is Abstract Factory\"\"\"\n",
    "        self.pet_factory = pet_factory\n",
    "    \n",
    "    def show_pet(self):\n",
    "        \"\"\"Utility method to display the details of the obj retured by the Dog Factory\"\"\"\n",
    "        pet = self.pet_factory.get_pet()\n",
    "        pet_food = self.pet_factory.get_food()\n",
    "        \n",
    "        print(f\"Our pet is: {pet}.\")\n",
    "        print(f\"Our pet says: {pet.speak()}\")\n",
    "        print(f\"Its food is: {pet_food}\")\n",
    "        \n",
    "# Create a Concrete factory\n",
    "factory = DogFactory()\n",
    "\n",
    "# Create a pet store housing our Abstract factory\n",
    "shop = PetStore(factory)\n",
    "    \n",
    "# Invoce the utility method\n",
    "shop.show_pet()\n",
    "    "
   ]
  },
  {
   "cell_type": "markdown",
   "metadata": {},
   "source": [
    "### Singleton\n",
    "\n",
    "#### Problem\n",
    "- only one instance\n",
    "- global variable in an object-oriented way\n",
    "\n",
    "#### Scenario\n",
    "- an info cache: shared by multiple objects\n",
    "\n",
    "#### Solution\n",
    "- module:  shared by multiple objects\n",
    "- the borg design pattern"
   ]
  },
  {
   "cell_type": "code",
   "execution_count": 25,
   "metadata": {},
   "outputs": [
    {
     "name": "stdout",
     "output_type": "stream",
     "text": [
      "{'HTTP': 'Hyper Text Transfer Protocol'}\n",
      "{'HTTP': 'Hyper Text Transfer Protocol', 'SNMP': 'Simple Network Management Protocol'}\n"
     ]
    }
   ],
   "source": [
    "class Borg:\n",
    "    \"\"\"Borg class making class attributes global\"\"\"\n",
    "    shared_state = {} # attribute dict\n",
    "    \n",
    "    def __init__(self):\n",
    "        self.__dict__ = self.shared_state\n",
    "        \n",
    "class Singleton(Borg):\n",
    "    \"\"\"Class now shares all its attributes among various instances\"\"\"\n",
    "    # makes the singleton obj an obj-oriented global variable\n",
    "    \n",
    "    def __init__(self, **kwargs):\n",
    "        # update the attribute dict by inserting a new kw pair\n",
    "        Borg.__init__(self)\n",
    "        self.shared_state.update(kwargs)\n",
    "        \n",
    "    def __str__(self):\n",
    "        return str(self.shared_state)\n",
    "    \n",
    "x = Singleton(HTTP = \"Hyper Text Transfer Protocol\")\n",
    "print(x)\n",
    "\n",
    "y = Singleton(SNMP = \"Simple Network Management Protocol\")\n",
    "print(y)\n",
    "        "
   ]
  },
  {
   "cell_type": "markdown",
   "metadata": {},
   "source": [
    "### Builder\n",
    "\n",
    "#### Scenario\n",
    "Building cars\n",
    "- tires\n",
    "- engine\n",
    "- etc...\n",
    "\n",
    "#### Solution\n",
    "- director\n",
    "- abstract builder: interfaces\n",
    "- concrete builder: implements the interfaces\n",
    "- product: obj being built"
   ]
  },
  {
   "cell_type": "code",
   "execution_count": 35,
   "metadata": {},
   "outputs": [
    {
     "name": "stdout",
     "output_type": "stream",
     "text": [
      "Model: Belarus | Regular tires | Turbo engine\n"
     ]
    }
   ],
   "source": [
    "class Director():\n",
    "    \"\"\"Director\"\"\"\n",
    "    \n",
    "    def __init__(self, builder):\n",
    "        self.builder = builder\n",
    "        \n",
    "    def construct_builder(self):\n",
    "        self.builder.create_new_car()\n",
    "        self.builder.add_model()\n",
    "        self.builder.add_tires()\n",
    "        self.builder.add_engine()\n",
    "    \n",
    "    def get_car(self):\n",
    "        return self.builder.car\n",
    "    \n",
    "class Builder():\n",
    "    \"\"\"Abstract builder\"\"\"\n",
    "    \n",
    "    def __init__(self):\n",
    "        self.car = None\n",
    "        \n",
    "    def create_new_car(self):\n",
    "        self.car = Car()\n",
    "        \n",
    "class CarBuilder(Builder):\n",
    "    \"\"\"Concrete builder. Provides parts and tools to work on the parts\"\"\"\n",
    "    \n",
    "    def add_model(self):\n",
    "        self.car.model = \"Model: Belarus\"\n",
    "        \n",
    "    def add_tires(self):\n",
    "        self.car.tires = \"Regular tires\"\n",
    "        \n",
    "    def add_engine(self):\n",
    "        self.car.engine = \"Turbo engine\"\n",
    "        \n",
    "class Car():\n",
    "    \"Product\"\n",
    "    \n",
    "    def __init__(self):\n",
    "        self.model = None\n",
    "        self.tires = None\n",
    "        self.engine = None\n",
    "        \n",
    "    def __str__(self):\n",
    "        return f\"{self.model} | {self.tires} | {self.engine}\"\n",
    "    \n",
    "builder = CarBuilder()\n",
    "director = Director(builder)\n",
    "director.construct_builder()\n",
    "car = director.get_car()\n",
    "print(car)"
   ]
  },
  {
   "cell_type": "markdown",
   "metadata": {},
   "source": [
    "### Prototype\n",
    "\n",
    "#### Problem\n",
    "- creating many identical obj individually: expensive\n",
    "- cloning: an alternative\n",
    "\n",
    "#### Scenario\n",
    "- mass production\n",
    "\n",
    "#### Solution\n",
    "- create a prototypical instance first\n",
    "- simply clone it whenever you need replica"
   ]
  },
  {
   "cell_type": "code",
   "execution_count": 36,
   "metadata": {},
   "outputs": [
    {
     "name": "stdout",
     "output_type": "stream",
     "text": [
      "Belarus | White | Super\n"
     ]
    }
   ],
   "source": [
    "import copy\n",
    "\n",
    "class Prototype:\n",
    "    def __init__(self):\n",
    "        self.objects = {}\n",
    "    \n",
    "    def register_object(self, name, obj):\n",
    "        \"\"\"Register an obj\"\"\"\n",
    "        self.objects[name] = obj\n",
    "    \n",
    "    def unregister_obkect(self, name):\n",
    "        \"\"\"Unregister an obj\"\"\"\n",
    "        del self.objects[name]\n",
    "    \n",
    "    def clone(self, name, **attr):\n",
    "        \"\"\"Clone a registered obj and update its attr\"\"\"\n",
    "        obj = copy.deepcopy(self.objects.get(name))\n",
    "        obj.__dict__.update(attr)\n",
    "        return obj\n",
    "    \n",
    "class Car:\n",
    "    def __init__(self):\n",
    "        self.name = \"Belarus\"\n",
    "        self.color = \"White\"\n",
    "        self.options = \"Super\"\n",
    "        \n",
    "    def __str__(self):\n",
    "        return f\"{self.name} | {self.color} | {self.options}\"\n",
    "    \n",
    "car = Car()\n",
    "prototype = Prototype()\n",
    "prototype.register_object('Minsk', car)\n",
    "\n",
    "car1 = prototype.clone('Minsk')\n",
    "print(car1)"
   ]
  },
  {
   "cell_type": "markdown",
   "metadata": {},
   "source": [
    "## Structural\n",
    "- relationships between software in certain conf\n",
    "- different goals yield different structures\n",
    "\n",
    "### use inheritance"
   ]
  },
  {
   "cell_type": "code",
   "execution_count": null,
   "metadata": {},
   "outputs": [],
   "source": []
  },
  {
   "cell_type": "markdown",
   "metadata": {},
   "source": [
    "## Behavioral\n",
    "- best practices of obj interaction\n",
    "- define the protocols\n",
    "\n",
    "### use methods and their signatures"
   ]
  }
 ],
 "metadata": {
  "kernelspec": {
   "display_name": "Python 3",
   "language": "python",
   "name": "python3"
  },
  "language_info": {
   "codemirror_mode": {
    "name": "ipython",
    "version": 3
   },
   "file_extension": ".py",
   "mimetype": "text/x-python",
   "name": "python",
   "nbconvert_exporter": "python",
   "pygments_lexer": "ipython3",
   "version": "3.8.3"
  }
 },
 "nbformat": 4,
 "nbformat_minor": 4
}
